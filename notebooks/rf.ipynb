{
 "cells": [
  {
   "cell_type": "code",
   "execution_count": 1,
   "metadata": {},
   "outputs": [],
   "source": [
    "from sklearn.ensemble import RandomForestClassifier\n",
    "from sklearn.model_selection import train_test_split\n",
    "from sklearn.metrics import accuracy_score\n",
    "import pandas as pd\n",
    "import joblib\n",
    "from sklearn.preprocessing import LabelEncoder\n"
   ]
  },
  {
   "cell_type": "code",
   "execution_count": 2,
   "metadata": {},
   "outputs": [],
   "source": [
    "data = pd.read_csv('../heart.csv')  \n"
   ]
  },
  {
   "cell_type": "code",
   "execution_count": null,
   "metadata": {},
   "outputs": [],
   "source": [
    "le_sex = LabelEncoder()\n",
    "le_chestpaintype = LabelEncoder()\n",
    "le_restingecg = LabelEncoder()\n",
    "le_exerciseangina = LabelEncoder()\n",
    "le_stslope = LabelEncoder()\n",
    "\n",
    "data['Sex'] = le_sex.fit_transform(data['Sex'])\n",
    "data['ChestPainType'] = le_chestpaintype .fit_transform(data['ChestPainType'])\n",
    "data['RestingECG'] = le_restingecg.fit_transform(data['RestingECG'])\n",
    "data['ExerciseAngina'] = le_exerciseangina.fit_transform(data['ExerciseAngina'])\n",
    "data['ST_Slope'] = le_stslope.fit_transform(data['ST_Slope'])"
   ]
  },
  {
   "cell_type": "code",
   "execution_count": 3,
   "metadata": {},
   "outputs": [
    {
     "data": {
      "text/plain": [
       "['../pickles/le_stslope.pkl']"
      ]
     },
     "execution_count": 3,
     "metadata": {},
     "output_type": "execute_result"
    }
   ],
   "source": [
    "joblib.dump(le_sex, '../pickles/le_sex.pkl')\n",
    "joblib.dump(le_chestpaintype, '../pickles/le_chestpaintype.pkl')\n",
    "joblib.dump(le_restingecg, '../pickles/le_restingecg.pkl')\n",
    "joblib.dump(le_exerciseangina, '../pickles/le_exerciseangina.pkl')\n",
    "joblib.dump(le_stslope, '../pickles/le_stslope.pkl')"
   ]
  },
  {
   "cell_type": "code",
   "execution_count": 4,
   "metadata": {},
   "outputs": [],
   "source": [
    "\n",
    "X = data.drop('HeartDisease', axis=1)\n",
    "y = data['HeartDisease']\n",
    "# Splitting the data into test/training\n",
    "X_train, X_test, y_train, y_test = train_test_split(X, y, test_size=0.2, random_state=42)"
   ]
  },
  {
   "cell_type": "code",
   "execution_count": 5,
   "metadata": {},
   "outputs": [],
   "source": [
    "from sklearn.model_selection import GridSearchCV\n",
    "\n",
    "param_grid = {\n",
    "    'n_estimators': [50, 100, 200],\n",
    "    'max_depth': [None, 10, 20],\n",
    "}\n",
    "\n",
    "grid_search = GridSearchCV(RandomForestClassifier(random_state=42), param_grid, cv=5)\n",
    "# Saving Trained model\n",
    "joblib.dump(grid_search, '../models/random_forest_model.pkl')  \n",
    "grid_search.fit(X_train, y_train)\n",
    "\n",
    "best_rf_model = grid_search.best_estimator_"
   ]
  },
  {
   "cell_type": "code",
   "execution_count": 6,
   "metadata": {},
   "outputs": [
    {
     "name": "stdout",
     "output_type": "stream",
     "text": [
      "Best Random Forest Model Accuracy: 0.8804347826086957\n"
     ]
    }
   ],
   "source": [
    "best_rf_predictions = best_rf_model.predict(X_test)\n",
    "best_rf_accuracy = accuracy_score(y_test, best_rf_predictions)\n",
    "\n",
    "print(f\"Best Random Forest Model Accuracy: {best_rf_accuracy}\")"
   ]
  }
 ],
 "metadata": {
  "kernelspec": {
   "display_name": "env3",
   "language": "python",
   "name": "python3"
  },
  "language_info": {
   "codemirror_mode": {
    "name": "ipython",
    "version": 3
   },
   "file_extension": ".py",
   "mimetype": "text/x-python",
   "name": "python",
   "nbconvert_exporter": "python",
   "pygments_lexer": "ipython3",
   "version": "3.8.10"
  }
 },
 "nbformat": 4,
 "nbformat_minor": 2
}
